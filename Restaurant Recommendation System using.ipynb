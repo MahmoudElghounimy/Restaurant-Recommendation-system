{
  "nbformat": 4,
  "nbformat_minor": 0,
  "metadata": {
    "colab": {
      "provenance": []
    },
    "kernelspec": {
      "name": "python3",
      "display_name": "Python 3"
    },
    "language_info": {
      "name": "python"
    }
  },
  "cells": [
    {
      "cell_type": "code",
      "execution_count": 3,
      "metadata": {
        "colab": {
          "base_uri": "https://localhost:8080/"
        },
        "id": "oobGDXvkclVH",
        "outputId": "23ff4c85-241d-44d7-d624-a12ea4c1f745"
      },
      "outputs": [
        {
          "output_type": "stream",
          "name": "stdout",
          "text": [
            "                            Name       Street Address  \\\n",
            "0  Betty Lou's Seafood and Grill     318 Columbus Ave   \n",
            "1              Coach House Diner        55 State Rt 4   \n",
            "2               Table Talk Diner  2521 South Rd Ste C   \n",
            "3                    Sixty Vines     3701 Dallas Pkwy   \n",
            "4                   The Clam Bar    3914 Brewerton Rd   \n",
            "\n",
            "                       Location                                          Type  \\\n",
            "0  San Francisco, CA 94133-3908   Seafood, Vegetarian Friendly, Vegan Options   \n",
            "1     Hackensack, NJ 07601-6337          Diner, American, Vegetarian Friendly   \n",
            "2   Poughkeepsie, NY 12601-5476          American, Diner, Vegetarian Friendly   \n",
            "3          Plano, TX 75093-7777       American, Wine Bar, Vegetarian Friendly   \n",
            "4            Syracuse, NY 13212                        American, Bar, Seafood   \n",
            "\n",
            "            Reviews No of Reviews  \\\n",
            "0  4.5 of 5 bubbles   243 reviews   \n",
            "1    4 of 5 bubbles    84 reviews   \n",
            "2    4 of 5 bubbles   256 reviews   \n",
            "3  4.5 of 5 bubbles   235 reviews   \n",
            "4    4 of 5 bubbles   285 reviews   \n",
            "\n",
            "                                            Comments   Contact Number  \\\n",
            "0                                                NaN  +1 415-757-0569   \n",
            "1  Both times we were there very late, after 11 P...  +1 201-488-4999   \n",
            "2  Waitress was very friendly but a little pricey...  +1 845-849-2839   \n",
            "3  Not sure why I went there for the second time....  +1 469-620-8463   \n",
            "4  Doesn't look like much from the outside but wa...  +1 315-458-1662   \n",
            "\n",
            "                                    Trip_advisor Url  \\\n",
            "0  https://www.tripadvisor.com//Restaurant_Review...   \n",
            "1  https://www.tripadvisor.com//Restaurant_Review...   \n",
            "2  https://www.tripadvisor.com//Restaurant_Review...   \n",
            "3  https://www.tripadvisor.com//Restaurant_Review...   \n",
            "4  https://www.tripadvisor.com//Restaurant_Review...   \n",
            "\n",
            "                                        Menu Price_Range  \n",
            "0               Check The Website for a Menu    $$ - $$$  \n",
            "1               Check The Website for a Menu    $$ - $$$  \n",
            "2  http://tabletalkdiner.com/menu/breakfast/    $$ - $$$  \n",
            "3      https://sixtyvines.com/menu/plano-tx/    $$ - $$$  \n",
            "4               Check The Website for a Menu    $$ - $$$  \n"
          ]
        }
      ],
      "source": [
        "import numpy as np\n",
        "import pandas as pd\n",
        "from sklearn.feature_extraction import text\n",
        "from sklearn.metrics.pairwise import cosine_similarity\n",
        "data = pd.read_csv(\"TripAdvisor_RestauarantRecommendation.csv\")\n",
        "print(data.head())"
      ]
    },
    {
      "source": [
        "data = data[[\"Name\", \"Type\"]]\n",
        "print(data.head())"
      ],
      "cell_type": "code",
      "execution_count": 4,
      "outputs": [
        {
          "output_type": "stream",
          "name": "stdout",
          "text": [
            "                            Name                                          Type\n",
            "0  Betty Lou's Seafood and Grill   Seafood, Vegetarian Friendly, Vegan Options\n",
            "1              Coach House Diner          Diner, American, Vegetarian Friendly\n",
            "2               Table Talk Diner          American, Diner, Vegetarian Friendly\n",
            "3                    Sixty Vines       American, Wine Bar, Vegetarian Friendly\n",
            "4                   The Clam Bar                        American, Bar, Seafood\n"
          ]
        }
      ],
      "metadata": {
        "cellView": "form",
        "colab": {
          "base_uri": "https://localhost:8080/"
        },
        "id": "Ppke4S7od0E6",
        "outputId": "78b84c6e-b125-469a-bc2e-cd13677b79b0"
      }
    },
    {
      "cell_type": "code",
      "source": [
        "print(data.isnull().sum())"
      ],
      "metadata": {
        "colab": {
          "base_uri": "https://localhost:8080/"
        },
        "id": "0GY92XRLdB5o",
        "outputId": "51380de7-7e4e-492b-d13c-5718327d7595"
      },
      "execution_count": 5,
      "outputs": [
        {
          "output_type": "stream",
          "name": "stdout",
          "text": [
            "Name     0\n",
            "Type    13\n",
            "dtype: int64\n"
          ]
        }
      ]
    },
    {
      "cell_type": "code",
      "source": [
        "data = data.dropna()"
      ],
      "metadata": {
        "id": "JQngoXKUvWjh"
      },
      "execution_count": 6,
      "outputs": []
    },
    {
      "cell_type": "code",
      "source": [
        "feature = data[\"Type\"].tolist()\n",
        "tfidf = text.TfidfVectorizer(input=\"content\", stop_words=\"english\")\n",
        "tfidf_matrix = tfidf.fit_transform(feature)\n",
        "similarity = cosine_similarity(tfidf_matrix)"
      ],
      "metadata": {
        "id": "MFKSZ7SLvZa6"
      },
      "execution_count": 9,
      "outputs": []
    },
    {
      "cell_type": "code",
      "source": [
        "indices = pd.Series(data.index,\n",
        "index=data['Name']).drop_duplicates()"
      ],
      "metadata": {
        "id": "n3PG4LHswBxr"
      },
      "execution_count": 10,
      "outputs": []
    },
    {
      "cell_type": "code",
      "source": [
        "def restaurant_recommendation(name, similarity = similarity):\n",
        " index = indices[name]\n",
        " similarity_scores = list(enumerate(similarity[index]))\n",
        " similarity_scores = sorted(similarity_scores, key=lambda x:\n",
        "x[1], reverse=True)\n",
        " similarity_scores = similarity_scores[0:10]\n",
        " restaurantindices = [i[0] for i in similarity_scores]\n",
        " return data['Name'].iloc[restaurantindices]\n",
        "print(restaurant_recommendation(\"Market Grill\"))"
      ],
      "metadata": {
        "colab": {
          "base_uri": "https://localhost:8080/"
        },
        "id": "_qX3nvV2wHWl",
        "outputId": "4c66fdf0-1a00-4424-865e-f49f655913dc"
      },
      "execution_count": 11,
      "outputs": [
        {
          "output_type": "stream",
          "name": "stdout",
          "text": [
            "23                   The Lion's Share\n",
            "154                        Houlihan's\n",
            "518            Midgley's Public House\n",
            "568                 Aspen Creek Grill\n",
            "770              Pete's Sunset Grille\n",
            "1190     Paul Martin's American Grill\n",
            "1581                   Aviation Grill\n",
            "1872                   Aviation Grill\n",
            "2193                Crest Bar & Grill\n",
            "2612    Tahoe Joe's Famous Steakhouse\n",
            "Name: Name, dtype: object\n"
          ]
        }
      ]
    }
  ]
}